{
 "cells": [
  {
   "cell_type": "markdown",
   "metadata": {},
   "source": [
    "# Assignment 5, Question 7: Group Operations & Final Analysis\n",
    "\n",
    "**Points: 15**\n",
    "\n",
    "Perform grouped analysis and create summary reports."
   ]
  },
  {
   "cell_type": "markdown",
   "metadata": {},
   "source": [
    "## Setup"
   ]
  },
  {
   "cell_type": "code",
   "execution_count": 1,
   "metadata": {},
   "outputs": [
    {
     "name": "stdout",
     "output_type": "stream",
     "text": [
      "Run test on q3_data cleanup...\n",
      "Test DataFrame created: (5, 3)\n",
      "Test detect_missing: 2\n",
      "Test passed!\n",
      "      site  count\n",
      "0   site b    742\n",
      "1   Site B    736\n",
      "2   SITE B    703\n",
      "3   SITE A    684\n",
      "4  Site  A    681\n",
      "(34, 2)\n",
      "Loaded 34 patients\n"
     ]
    }
   ],
   "source": [
    "import pandas as pd\n",
    "import numpy as np\n",
    "import matplotlib.pyplot as plt\n",
    "\n",
    "# Import utilities\n",
    "from q3_data_utils import load_data, summarize_by_group\n",
    "\n",
    "df = load_data('data/clinical_trial_raw.csv')\n",
    "print(f\"Loaded {len(df)} patients\")\n",
    "\n",
    "# Prewritten visualization function for grouped analysis\n",
    "def plot_group_comparison(data, x_col, y_col, title):\n",
    "    \"\"\"\n",
    "    Create a bar chart comparing groups.\n",
    "    \n",
    "    Args:\n",
    "        data: DataFrame with grouped data\n",
    "        x_col: Column name for x-axis (groups)\n",
    "        y_col: Column name for y-axis (values)\n",
    "        title: Chart title\n",
    "    \"\"\"\n",
    "    plt.figure(figsize=(10, 6))\n",
    "    data.plot(x=x_col, y=y_col, kind='bar')\n",
    "    plt.title(title)\n",
    "    plt.xticks(rotation=45)\n",
    "    plt.tight_layout()\n",
    "    plt.show()"
   ]
  },
  {
   "cell_type": "markdown",
   "metadata": {},
   "source": [
    "## Part 1: Basic Groupby (5 points)\n",
    "\n",
    "1. Group by 'site' and calculate mean age, BMI, and blood pressure\n",
    "2. Group by 'intervention_group' and count patients\n",
    "3. Use the `summarize_by_group()` utility to get overall statistics by site"
   ]
  },
  {
   "cell_type": "code",
   "execution_count": null,
   "metadata": {},
   "outputs": [],
   "source": [
    "# TODO: Group by site\n",
    "site_summary = df_typed.groupby('site')[['age', 'bmi', 'systolic_bp', 'diastolic_bp']].mean()\n",
    "print(\"1. Mean values by site:\")\n",
    "print(site_summary)"
   ]
  },
  {
   "cell_type": "code",
   "execution_count": null,
   "metadata": {},
   "outputs": [],
   "source": [
    "# TODO: Count by intervention group\n",
    "intervention_counts = df_typed['intervention_group'].value_counts()\n",
    "print(\"2. Counts by intervention group:\")\n",
    "print(intervention_counts)"
   ]
  },
  {
   "cell_type": "markdown",
   "metadata": {},
   "source": [
    "**Note:** The `summarize_by_group()` function has an optional `agg_dict` parameter for custom aggregations. If you don't specify it, it will use `.describe()` on numeric columns. You can use `agg_dict={'age': ['mean', 'std'], 'bmi': 'mean'}` for custom aggregations.\n"
   ]
  },
  {
   "cell_type": "code",
   "execution_count": null,
   "metadata": {},
   "outputs": [],
   "source": [
    "# TODO: Use summarize_by_group utility\n",
    "site_stats =summarize_by_group(df_typed, 'site')\n",
    "print(\"3. Overall statistics by site:\")\n",
    "print(site_stats)"
   ]
  },
  {
   "cell_type": "markdown",
   "metadata": {},
   "source": [
    "## Part 2: Multiple Aggregations (5 points)\n",
    "\n",
    "Group by 'site' and apply multiple aggregations:\n",
    "- age: mean, std, min, max\n",
    "- bmi: mean, std\n",
    "- systolic_bp: mean, median\n",
    "\n",
    "Display the results in a well-formatted table."
   ]
  },
  {
   "cell_type": "code",
   "execution_count": null,
   "metadata": {},
   "outputs": [],
   "source": [
    "# TODO: Multiple aggregations\n",
    "site_stats = summarize_by_group (\n",
    "    df_typed,\n",
    "    'site',\n",
    "    agg_dict={\n",
    "        'age':['mean', 'std', 'min', 'max'],\n",
    "        'bmi':['mean', 'std'],\n",
    "        'systolic_bp':['mean', 'median']\n",
    "    }\n",
    ")\n",
    "\n",
    "print (\"=\"*80)\n",
    "print(\"Statistics by site\")\n",
    "print (\"=\"*80)\n",
    "print (site_stats.round(2))\n",
    "print (\"=\"*80)"
   ]
  },
  {
   "cell_type": "markdown",
   "metadata": {},
   "source": [
    "## Part 3: Comparative Analysis (5 points)\n",
    "\n",
    "Compare intervention groups:\n",
    "1. Calculate mean outcome_cvd rate by intervention_group\n",
    "2. Calculate mean adherence_pct by intervention_group\n",
    "3. Create a cross-tabulation of intervention_group vs dropout status\n",
    "4. Visualize the comparison with a bar plot"
   ]
  },
  {
   "cell_type": "code",
   "execution_count": null,
   "metadata": {},
   "outputs": [],
   "source": [
    "# TODO: Intervention group comparisons\n",
    "\n",
    "print(\"1. Mean CVD outcome rate by intervention group:\")\n",
    "cvd_by_group = df_typed.groupby('intervention_group')['outcome_cvd'].mean()\n",
    "print(cvd_by_group.round(4))\n",
    "print()\n",
    "\n",
    "print(\"2. Mean adherence percentage by intervention group:\")\n",
    "adherence_by_group = df_typed.groupby('intervention_group')['adherence_pct'].mean()\n",
    "print(adherence_by_group.round(2))\n",
    "print()\n",
    "\n",
    "print(\"3. Cross-tabulation of intervention group vs. droupout status:\")\n",
    "crosstab = pd.crosstab(df_typed['intervention_group'], df_typed['dropout'], margins = True)\n",
    "print(crosstab)\n",
    "print()\n",
    "print(\"Dropout rates by group:\")\n",
    "dropout_rates = pd.crosstab(df_typed['intervention_group'], df_typed['dropout'])dropout_rates = pd.crosstab(df_typed['intervention_group'], df_typed['dropout'], normalize='index') * 100\n",
    "print(dropout_rates.round(2))\n",
    "print()"
   ]
  },
  {
   "cell_type": "code",
   "execution_count": null,
   "metadata": {},
   "outputs": [],
   "source": [
    "# TODO: Visualization\n",
    "fig, axes = plt.subplots(1,3,figsize=(15,5))\n",
    "\n",
    "# cvd_by_group\n",
    "cvd_by_group.plot(kind='bar', ax=axes[0], color = 'blue')\n",
    "axes[0].set_title('Mean CVD outcome rate by intervention group')\n",
    "axes[0].set_xlabel('Intervention group')\n",
    "axes[0].set_ylabel('CVD rate')\n",
    "axes[0].tick_params(axis='x', rotation=45)\n",
    "\n",
    "# adherence_by_group\n",
    "adherence_by_group.plot(kind='bar', ax=axes[0], color = 'green')\n",
    "axes[0].set_title('Mean percent adherence by intervention group')\n",
    "axes[0].set_xlabel('Intervention group')\n",
    "axes[0].set_ylabel('Adherence percent')\n",
    "axes[0].tick_params(axis='x', rotation=45)\n",
    "\n",
    "# droupout status\n",
    "dropout_rates_plot = df_typed.groupby('intervention_group')['dropout'].apply(lambda x: (x == 1).mean() * 100)\n",
    "dropout_rates_plot.plot(kind='bar', ax=axes[1, 0], color='coral', alpha=0.7)\n",
    "axes[1, 0].set_title('Dropout Rate by Intervention Group', fontsize=12, fontweight='bold')\n",
    "axes[1, 0].set_xlabel('Intervention Group')\n",
    "axes[1, 0].set_ylabel('Dropout Rate (%)')\n",
    "axes[1, 0].tick_params(axis='x', rotation=45)\n",
    "axes[1, 0].grid(axis='y', alpha=0.3)\n",
    "\n",
    "plt.tight_layout()\n",
    "plt.savefig('output/intervention_comparison.png', dpi=300, bbox_inches='tight')\n",
    "print(\"Visualization saved to output/intervention_comparison.png\")\n",
    "plt.show()"
   ]
  },
  {
   "cell_type": "code",
   "execution_count": null,
   "metadata": {},
   "outputs": [],
   "source": [
    "## compare shorter version: (x- cori)\n",
    "\n",
    "# 1. Mean CVD outcome rate\n",
    "cvd_by_group = df_typed.groupby('intervention_group')['outcome_cvd'].mean()\n",
    "print(\"Mean CVD Rate:\", cvd_by_group.round(4))\n",
    "\n",
    "# 2. Mean adherence\n",
    "adherence_by_group = df_typed.groupby('intervention_group')['adherence_pct'].mean()\n",
    "print(\"Mean Adherence %:\", adherence_by_group.round(2))\n",
    "\n",
    "# 3. Crosstab\n",
    "crosstab = pd.crosstab(df_typed['intervention_group'], df_typed['dropout'])\n",
    "print(\"Crosstab:\\n\", crosstab)\n",
    "\n",
    "# 4. Bar plot\n",
    "cvd_by_group.plot(kind='bar', title='CVD Rate by Intervention Group')\n",
    "plt.ylabel('CVD Rate')\n",
    "plt.savefig('output/intervention_comparison.png')\n",
    "plt.show()"
   ]
  },
  {
   "cell_type": "markdown",
   "metadata": {},
   "source": [
    "## Part 4: Final Report\n",
    "\n",
    "Create and save:\n",
    "1. Summary statistics by site → `output/q7_site_summary.csv`\n",
    "2. Intervention group comparison → `output/q7_intervention_comparison.csv`\n",
    "3. Text report with key findings → `output/q7_analysis_report.txt`"
   ]
  },
  {
   "cell_type": "code",
   "execution_count": null,
   "metadata": {},
   "outputs": [],
   "source": [
    "# TODO: Save summary outputs\n",
    "print(\"1. Site summary:\")\n",
    "site_stats.to_csv('output/q7_site_summary.csv')\n",
    "print(\"Site summary saved to output/q7_site_summary.csv\")\n",
    "\n",
    "print(\"2. Intervention group CVD comparison\")\n",
    "cvd_by_group.to_csv('output/q7_intervention_comparison.csv')\n",
    "print(\"Intervention group CVD comparison saved to output/q7_intervention_comparison.csv\")\n",
    "\n",
    "### check\n",
    "print(\"3. Creating analysis report...\")\n",
    "with open('output/q7_analysis_report.txt', 'w') as f:\n",
    "    f.write(\"=\"*80 + \"\\n\")\n",
    "    f.write(\"CLINICAL TRIAL DATA ANALYSIS REPORT\\n\")\n",
    "    f.write(\"=\"*80 + \"\\n\\n\")\n",
    "    \n",
    "    # Dataset Overview\n",
    "    f.write(\"DATASET OVERVIEW\\n\")\n",
    "    f.write(\"-\"*80 + \"\\n\")\n",
    "    f.write(f\"Total patients: {len(df_typed):,}\\n\")\n",
    "    f.write(f\"Total variables: {df_typed.shape[1]}\\n\")\n",
    "    f.write(f\"Analysis date: {pd.Timestamp.now().strftime('%Y-%m-%d')}\\n\\n\")\n",
    "    \n",
    "    # Site Summary\n",
    "    f.write(\"SUMMARY BY SITE\\n\")\n",
    "    f.write(\"-\"*80 + \"\\n\")\n",
    "    f.write(f\"Number of sites: {df_typed['site'].nunique()}\\n\")\n",
    "    f.write(f\"Sites: {', '.join(df_typed['site'].unique())}\\n\\n\")\n",
    "    f.write(\"Patient distribution by site:\\n\")\n",
    "    site_counts = df_typed['site'].value_counts()\n",
    "    for site, count in site_counts.items():\n",
    "        f.write(f\"  - {site}: {count:,} patients ({count/len(df_typed)*100:.1f}%)\\n\")\n",
    "    f.write(\"\\n\")\n",
    "    \n",
    "    # Intervention Group Summary\n",
    "    f.write(\"INTERVENTION GROUP COMPARISON\\n\")\n",
    "    f.write(\"-\"*80 + \"\\n\")\n",
    "    f.write(f\"Number of intervention groups: {df_typed['intervention_group'].nunique()}\\n\\n\")\n",
    "    \n",
    "    f.write(\"Key Findings:\\n\")\n",
    "    for group in intervention_comparison.index:\n",
    "        f.write(f\"\\n{group}:\\n\")\n",
    "        f.write(f\"  - Sample size: {intervention_comparison.loc[group, 'sample_size']:.0f}\\n\")\n",
    "        f.write(f\"  - CVD outcome rate: {intervention_comparison.loc[group, 'mean_cvd_rate']:.4f}\\n\")\n",
    "        f.write(f\"  - Mean adherence: {intervention_comparison.loc[group, 'mean_adherence_pct']:.2f}%\\n\")\n",
    "        f.write(f\"  - Dropout rate: {intervention_comparison.loc[group, 'dropout_rate']:.2f}%\\n\")\n",
    "        f.write(f\"  - Mean age: {intervention_comparison.loc[group, 'mean_age']:.1f} years\\n\")\n",
    "        f.write(f\"  - Mean BMI: {intervention_comparison.loc[group, 'mean_bmi']:.1f}\\n\")\n",
    "    \n",
    "    f.write(\"\\n\")\n",
    "    \n",
    "    # Key Statistics\n",
    "    f.write(\"KEY STATISTICS\\n\")\n",
    "    f.write(\"-\"*80 + \"\\n\")\n",
    "    f.write(f\"Overall CVD outcome rate: {df_typed['outcome_cvd'].mean():.4f}\\n\")\n",
    "    f.write(f\"Overall adherence rate: {df_typed['adherence_pct'].mean():.2f}%\\n\")\n",
    "    f.write(f\"Overall dropout rate: {df_typed['dropout'].mean()*100:.2f}%\\n\")\n",
    "    f.write(f\"Mean age: {df_typed['age'].mean():.1f} years (SD: {df_typed['age'].std():.1f})\\n\")\n",
    "    f.write(f\"Mean BMI: {df_typed['bmi'].mean():.1f} (SD: {df_typed['bmi'].std():.1f})\\n\")\n",
    "    f.write(f\"Mean systolic BP: {df_typed['systolic_bp'].mean():.1f} mmHg\\n\\n\")\n",
    "    \n",
    "    # Missing Data Summary\n",
    "    f.write(\"MISSING DATA SUMMARY\\n\")\n",
    "    f.write(\"-\"*80 + \"\\n\")\n",
    "    missing = detect_missing(df_typed)\n",
    "    missing_cols = missing[missing > 0]\n",
    "    if len(missing_cols) > 0:\n",
    "        f.write(f\"Columns with missing data: {len(missing_cols)}\\n\\n\")\n",
    "        for col, count in missing_cols.items():\n",
    "            f.write(f\"  - {col}: {count} ({count/len(df_typed)*100:.2f}%)\\n\")\n",
    "    else:\n",
    "        f.write(\"No missing data detected.\\n\")\n",
    "    \n",
    "    f.write(\"\\n\")\n",
    "    f.write(\"=\"*80 + \"\\n\")\n",
    "    f.write(\"END OF REPORT\\n\")\n",
    "    f.write(\"=\"*80 + \"\\n\")\n",
    "\n",
    "print(\"   ✓ Analysis report saved to output/q7_analysis_report.txt\")\n",
    "print()"
   ]
  },
  {
   "cell_type": "code",
   "execution_count": null,
   "metadata": {},
   "outputs": [],
   "source": [
    "# TEST - cs: compact version, recalculates\n",
    "\n",
    "# 1. Site summary\n",
    "site_summary = summarize_by_group(\n",
    "    df_typed, 'site',\n",
    "    {'age': ['mean', 'std'], 'bmi': 'mean', 'outcome_cvd': 'mean'}\n",
    ")\n",
    "site_summary.round(2).to_csv('output/q7_site_summary.csv')\n",
    "\n",
    "# 2. Intervention comparison\n",
    "intervention_comparison = pd.DataFrame({\n",
    "    'cvd_rate': df_typed.groupby('intervention_group')['outcome_cvd'].mean(),\n",
    "    'adherence': df_typed.groupby('intervention_group')['adherence_pct'].mean(),\n",
    "    'dropout_rate': df_typed.groupby('intervention_group')['dropout'].mean() * 100\n",
    "})\n",
    "intervention_comparison.round(2).to_csv('output/q7_intervention_comparison.csv')\n",
    "\n",
    "# 3. Text report\n",
    "with open('output/q7_analysis_report.txt', 'w') as f:\n",
    "    f.write(\"CLINICAL TRIAL ANALYSIS REPORT\\n\")\n",
    "    f.write(\"=\"*60 + \"\\n\\n\")\n",
    "    f.write(f\"Total patients: {len(df_typed)}\\n\")\n",
    "    f.write(f\"CVD rate: {df_typed['outcome_cvd'].mean():.4f}\\n\")\n",
    "    f.write(f\"Adherence: {df_typed['adherence_pct'].mean():.2f}%\\n\")\n",
    "    f.write(f\"Dropout rate: {df_typed['dropout'].mean()*100:.2f}%\\n\")\n",
    "\n",
    "print(\"✓ All outputs saved!\")"
   ]
  },
  {
   "cell_type": "markdown",
   "metadata": {},
   "source": [
    "## Summary\n",
    "\n",
    "What are the 3 most important findings from your analysis?"
   ]
  },
  {
   "cell_type": "markdown",
   "metadata": {},
   "source": [
    "**Key Findings:**\n",
    "\n",
    "1. TODO\n",
    "2. TODO\n",
    "3. TODO\n"
   ]
  }
 ],
 "metadata": {
  "kernelspec": {
   "display_name": ".venv",
   "language": "python",
   "name": "python3"
  },
  "language_info": {
   "codemirror_mode": {
    "name": "ipython",
    "version": 3
   },
   "file_extension": ".py",
   "mimetype": "text/x-python",
   "name": "python",
   "nbconvert_exporter": "python",
   "pygments_lexer": "ipython3",
   "version": "3.13.7"
  }
 },
 "nbformat": 4,
 "nbformat_minor": 2
}
