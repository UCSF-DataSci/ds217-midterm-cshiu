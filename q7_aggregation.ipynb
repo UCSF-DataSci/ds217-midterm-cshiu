{
 "cells": [
  {
   "cell_type": "markdown",
   "metadata": {},
   "source": [
    "# Assignment 5, Question 7: Group Operations & Final Analysis\n",
    "\n",
    "**Points: 15**\n",
    "\n",
    "Perform grouped analysis and create summary reports."
   ]
  },
  {
   "cell_type": "markdown",
   "metadata": {},
   "source": [
    "## Setup"
   ]
  },
  {
   "cell_type": "code",
   "execution_count": 1,
   "metadata": {
    "execution": {
     "iopub.execute_input": "2025-10-29T04:56:31.740025Z",
     "iopub.status.busy": "2025-10-29T04:56:31.739805Z",
     "iopub.status.idle": "2025-10-29T04:56:32.056601Z",
     "shell.execute_reply": "2025-10-29T04:56:32.056241Z"
    }
   },
   "outputs": [
    {
     "name": "stdout",
     "output_type": "stream",
     "text": [
      "Run test on q3_data cleanup...\n",
      "Test DataFrame created: (5, 3)\n",
      "Test detect_missing: 2\n",
      "Test passed!\n",
      "Loaded 10000 patients\n"
     ]
    }
   ],
   "source": [
    "import pandas as pd\n",
    "import numpy as np\n",
    "import matplotlib.pyplot as plt\n",
    "\n",
    "# Import utilities\n",
    "from q3_data_utils import load_data, summarize_by_group\n",
    "\n",
    "df = load_data('data/clinical_trial_raw.csv')\n",
    "print(f\"Loaded {len(df)} patients\")\n",
    "\n",
    "# Prewritten visualization function for grouped analysis\n",
    "def plot_group_comparison(data, x_col, y_col, title):\n",
    "    \"\"\"\n",
    "    Create a bar chart comparing groups.\n",
    "    \n",
    "    Args:\n",
    "        data: DataFrame with grouped data\n",
    "        x_col: Column name for x-axis (groups)\n",
    "        y_col: Column name for y-axis (values)\n",
    "        title: Chart title\n",
    "    \"\"\"\n",
    "    plt.figure(figsize=(10, 6))\n",
    "    data.plot(x=x_col, y=y_col, kind='bar')\n",
    "    plt.title(title)\n",
    "    plt.xticks(rotation=45)\n",
    "    plt.tight_layout()\n",
    "    plt.show()"
   ]
  },
  {
   "cell_type": "markdown",
   "metadata": {},
   "source": [
    "## Part 1: Basic Groupby (5 points)\n",
    "\n",
    "1. Group by 'site' and calculate mean age, BMI, and blood pressure\n",
    "2. Group by 'intervention_group' and count patients\n",
    "3. Use the `summarize_by_group()` utility to get overall statistics by site"
   ]
  },
  {
   "cell_type": "code",
   "execution_count": 2,
   "metadata": {
    "execution": {
     "iopub.execute_input": "2025-10-29T04:56:32.069815Z",
     "iopub.status.busy": "2025-10-29T04:56:32.069715Z",
     "iopub.status.idle": "2025-10-29T04:56:32.077355Z",
     "shell.execute_reply": "2025-10-29T04:56:32.077012Z"
    }
   },
   "outputs": [
    {
     "name": "stdout",
     "output_type": "stream",
     "text": [
      "1. Mean values by site:\n",
      "              age        bmi  systolic_bp  diastolic_bp\n",
      "site                                                   \n",
      "site a  56.364005  25.875183   117.354284     73.549508\n",
      "site b  62.401957  25.706681   117.130675     73.310140\n",
      "site c  57.312108  25.789583   117.978359     73.676397\n",
      "site d  60.720562  25.679705   118.052045     73.733271\n",
      "site e  57.064897  25.476502   117.503080     73.752567\n",
      "sited   72.176309  25.200000   117.604651     73.345930\n"
     ]
    }
   ],
   "source": [
    "# TODO: Group by site\n",
    "\n",
    "# first, clean site names\n",
    "df['site'] = df['site'].str.strip()\n",
    "df['site'] = df['site'].str.lower()\n",
    "df['site'] = df['site'].str.replace('_', '', regex=False)\n",
    "df['site'] = df['site'].str.replace(r'\\s+', ' ', regex=True)\n",
    "\n",
    "site_summary = df.groupby('site')[['age', 'bmi', 'systolic_bp', 'diastolic_bp']].mean()\n",
    "print(\"1. Mean values by site:\")\n",
    "print(site_summary)"
   ]
  },
  {
   "cell_type": "code",
   "execution_count": 3,
   "metadata": {
    "execution": {
     "iopub.execute_input": "2025-10-29T04:56:32.078319Z",
     "iopub.status.busy": "2025-10-29T04:56:32.078251Z",
     "iopub.status.idle": "2025-10-29T04:56:32.084884Z",
     "shell.execute_reply": "2025-10-29T04:56:32.084533Z"
    }
   },
   "outputs": [
    {
     "name": "stdout",
     "output_type": "stream",
     "text": [
      "Cleaned intervention_group values:\n",
      "\n",
      "['control' 'treatment b' 'treatmen a' 'treatmenta' 'treatment a' 'contrl']\n",
      "2. Counts by intervention group:\n",
      "intervention_group\n",
      "treatment b    3342\n",
      "control        2462\n",
      "treatment a    1968\n",
      "contrl          875\n",
      "treatmenta      701\n",
      "treatmen a      652\n",
      "Name: count, dtype: int64\n"
     ]
    }
   ],
   "source": [
    "# TODO: Count by intervention group\n",
    "\n",
    "# first, clean intervention_group values\n",
    "df['intervention_group'] = df['intervention_group'].str.strip().str.lower().str.replace('_', '', regex=False).str.replace(r'\\s+', ' ', regex=True)\n",
    "\n",
    "print(\"Cleaned intervention_group values:\\n\")\n",
    "print(df['intervention_group'].unique())\n",
    "\n",
    "intervention_counts = df['intervention_group'].value_counts()\n",
    "print(\"2. Counts by intervention group:\")\n",
    "print(intervention_counts)"
   ]
  },
  {
   "cell_type": "markdown",
   "metadata": {},
   "source": [
    "**Note:** The `summarize_by_group()` function has an optional `agg_dict` parameter for custom aggregations. If you don't specify it, it will use `.describe()` on numeric columns. You can use `agg_dict={'age': ['mean', 'std'], 'bmi': 'mean'}` for custom aggregations.\n"
   ]
  },
  {
   "cell_type": "code",
   "execution_count": 4,
   "metadata": {
    "execution": {
     "iopub.execute_input": "2025-10-29T04:56:32.085784Z",
     "iopub.status.busy": "2025-10-29T04:56:32.085720Z",
     "iopub.status.idle": "2025-10-29T04:56:32.095259Z",
     "shell.execute_reply": "2025-10-29T04:56:32.094988Z"
    }
   },
   "outputs": [
    {
     "name": "stdout",
     "output_type": "stream",
     "text": [
      "3. Overall statistics by site:\n",
      "              age                                 bmi                         \\\n",
      "             mean median         std count       mean median       std count   \n",
      "site                                                                           \n",
      "site a  56.364005   81.0  162.536292  2956  25.875183  26.10  4.983102  2873   \n",
      "site b  62.401957   80.0  139.050180  2453  25.706681  26.00  5.017423  2350   \n",
      "site c  57.312108   80.0  157.941868  2073  25.789583  26.10  5.417217  1968   \n",
      "site d  60.720562   80.0  145.970657  1138  25.679705  26.20  5.912871  1084   \n",
      "site e  57.064897   80.0  157.697644  1017  25.476502  26.00  6.084532   949   \n",
      "sited   72.176309   80.0   98.867967   363  25.200000  26.05  5.772410   338   \n",
      "\n",
      "       systolic_bp                         diastolic_bp                    \\\n",
      "              mean median        std count         mean median        std   \n",
      "site                                                                        \n",
      "site a  117.354284  117.0  14.109332  2848    73.549508   73.0  10.052567   \n",
      "site b  117.130675  117.0  13.532200  2357    73.310140   73.0  10.074095   \n",
      "site c  117.978359  118.0  13.974010  1987    73.676397   73.0  10.254243   \n",
      "site d  118.052045  118.0  13.988270  1076    73.733271   73.0  10.158028   \n",
      "site e  117.503080  117.0  14.696501   974    73.752567   73.0  10.569370   \n",
      "sited   117.604651  117.0  13.661274   344    73.345930   72.0  10.153607   \n",
      "\n",
      "              \n",
      "       count  \n",
      "site          \n",
      "site a  2848  \n",
      "site b  2357  \n",
      "site c  1987  \n",
      "site d  1076  \n",
      "site e   974  \n",
      "sited    344  \n"
     ]
    }
   ],
   "source": [
    "# TODO: Use summarize_by_group utility\n",
    "\n",
    "# first, clean site names again\n",
    "df['site'] = df['site'].str.strip()\n",
    "df['site'] = df['site'].str.lower()\n",
    "df['site'] = df['site'].str.replace('_', '', regex=False)\n",
    "df['site'] = df['site'].str.replace(r'\\s+', ' ', regex=True)\n",
    "\n",
    "site_stats = summarize_by_group(\n",
    "    df, \n",
    "    group_col = 'site', \n",
    "    agg_dict = {\n",
    "        'age': ['mean', 'median', 'std', 'count'],\n",
    "        'bmi': ['mean', 'median', 'std', 'count'],\n",
    "        'systolic_bp': ['mean', 'median', 'std', 'count'],\n",
    "        'diastolic_bp': ['mean', 'median', 'std', 'count'],\n",
    "    }\n",
    "    )\n",
    "\n",
    "print(\"3. Overall statistics by site:\")\n",
    "print(site_stats)"
   ]
  },
  {
   "cell_type": "markdown",
   "metadata": {},
   "source": [
    "## Part 2: Multiple Aggregations (5 points)\n",
    "\n",
    "Group by 'site' and apply multiple aggregations:\n",
    "- age: mean, std, min, max\n",
    "- bmi: mean, std\n",
    "- systolic_bp: mean, median\n",
    "\n",
    "Display the results in a well-formatted table."
   ]
  },
  {
   "cell_type": "code",
   "execution_count": 5,
   "metadata": {
    "execution": {
     "iopub.execute_input": "2025-10-29T04:56:32.096226Z",
     "iopub.status.busy": "2025-10-29T04:56:32.096159Z",
     "iopub.status.idle": "2025-10-29T04:56:32.108635Z",
     "shell.execute_reply": "2025-10-29T04:56:32.108355Z"
    }
   },
   "outputs": [
    {
     "name": "stdout",
     "output_type": "stream",
     "text": [
      "Statistics by site\n",
      "          age                      bmi       systolic_bp       \n",
      "         mean     std  min  max   mean   std        mean median\n",
      "site                                                           \n",
      "site a  56.36  162.54 -999  100  25.88  4.98      117.35  117.0\n",
      "site b  62.40  139.05 -999  100  25.71  5.02      117.13  117.0\n",
      "site c  57.31  157.94 -999  100  25.79  5.42      117.98  118.0\n",
      "site d  60.72  145.97 -999  100  25.68  5.91      118.05  118.0\n",
      "site e  57.06  157.70 -999  100  25.48  6.08      117.50  117.0\n",
      "sited   72.18   98.87 -999  100  25.20  5.77      117.60  117.0\n"
     ]
    },
    {
     "data": {
      "text/html": [
       "<div>\n",
       "<style scoped>\n",
       "    .dataframe tbody tr th:only-of-type {\n",
       "        vertical-align: middle;\n",
       "    }\n",
       "\n",
       "    .dataframe tbody tr th {\n",
       "        vertical-align: top;\n",
       "    }\n",
       "\n",
       "    .dataframe thead tr th {\n",
       "        text-align: left;\n",
       "    }\n",
       "\n",
       "    .dataframe thead tr:last-of-type th {\n",
       "        text-align: right;\n",
       "    }\n",
       "</style>\n",
       "<table border=\"1\" class=\"dataframe\">\n",
       "  <thead>\n",
       "    <tr>\n",
       "      <th></th>\n",
       "      <th colspan=\"4\" halign=\"left\">age</th>\n",
       "      <th colspan=\"2\" halign=\"left\">bmi</th>\n",
       "      <th colspan=\"2\" halign=\"left\">systolic_bp</th>\n",
       "    </tr>\n",
       "    <tr>\n",
       "      <th></th>\n",
       "      <th>mean</th>\n",
       "      <th>std</th>\n",
       "      <th>min</th>\n",
       "      <th>max</th>\n",
       "      <th>mean</th>\n",
       "      <th>std</th>\n",
       "      <th>mean</th>\n",
       "      <th>median</th>\n",
       "    </tr>\n",
       "    <tr>\n",
       "      <th>site</th>\n",
       "      <th></th>\n",
       "      <th></th>\n",
       "      <th></th>\n",
       "      <th></th>\n",
       "      <th></th>\n",
       "      <th></th>\n",
       "      <th></th>\n",
       "      <th></th>\n",
       "    </tr>\n",
       "  </thead>\n",
       "  <tbody>\n",
       "    <tr>\n",
       "      <th>site a</th>\n",
       "      <td>56.36</td>\n",
       "      <td>162.54</td>\n",
       "      <td>-999</td>\n",
       "      <td>100</td>\n",
       "      <td>25.88</td>\n",
       "      <td>4.98</td>\n",
       "      <td>117.35</td>\n",
       "      <td>117.0</td>\n",
       "    </tr>\n",
       "    <tr>\n",
       "      <th>site b</th>\n",
       "      <td>62.40</td>\n",
       "      <td>139.05</td>\n",
       "      <td>-999</td>\n",
       "      <td>100</td>\n",
       "      <td>25.71</td>\n",
       "      <td>5.02</td>\n",
       "      <td>117.13</td>\n",
       "      <td>117.0</td>\n",
       "    </tr>\n",
       "    <tr>\n",
       "      <th>site c</th>\n",
       "      <td>57.31</td>\n",
       "      <td>157.94</td>\n",
       "      <td>-999</td>\n",
       "      <td>100</td>\n",
       "      <td>25.79</td>\n",
       "      <td>5.42</td>\n",
       "      <td>117.98</td>\n",
       "      <td>118.0</td>\n",
       "    </tr>\n",
       "    <tr>\n",
       "      <th>site d</th>\n",
       "      <td>60.72</td>\n",
       "      <td>145.97</td>\n",
       "      <td>-999</td>\n",
       "      <td>100</td>\n",
       "      <td>25.68</td>\n",
       "      <td>5.91</td>\n",
       "      <td>118.05</td>\n",
       "      <td>118.0</td>\n",
       "    </tr>\n",
       "    <tr>\n",
       "      <th>site e</th>\n",
       "      <td>57.06</td>\n",
       "      <td>157.70</td>\n",
       "      <td>-999</td>\n",
       "      <td>100</td>\n",
       "      <td>25.48</td>\n",
       "      <td>6.08</td>\n",
       "      <td>117.50</td>\n",
       "      <td>117.0</td>\n",
       "    </tr>\n",
       "    <tr>\n",
       "      <th>sited</th>\n",
       "      <td>72.18</td>\n",
       "      <td>98.87</td>\n",
       "      <td>-999</td>\n",
       "      <td>100</td>\n",
       "      <td>25.20</td>\n",
       "      <td>5.77</td>\n",
       "      <td>117.60</td>\n",
       "      <td>117.0</td>\n",
       "    </tr>\n",
       "  </tbody>\n",
       "</table>\n",
       "</div>"
      ],
      "text/plain": [
       "          age                      bmi       systolic_bp       \n",
       "         mean     std  min  max   mean   std        mean median\n",
       "site                                                           \n",
       "site a  56.36  162.54 -999  100  25.88  4.98      117.35  117.0\n",
       "site b  62.40  139.05 -999  100  25.71  5.02      117.13  117.0\n",
       "site c  57.31  157.94 -999  100  25.79  5.42      117.98  118.0\n",
       "site d  60.72  145.97 -999  100  25.68  5.91      118.05  118.0\n",
       "site e  57.06  157.70 -999  100  25.48  6.08      117.50  117.0\n",
       "sited   72.18   98.87 -999  100  25.20  5.77      117.60  117.0"
      ]
     },
     "metadata": {},
     "output_type": "display_data"
    },
    {
     "name": "stdout",
     "output_type": "stream",
     "text": [
      "\n",
      "================================================================================\n"
     ]
    }
   ],
   "source": [
    "# TODO: Multiple aggregations\n",
    "\n",
    "# first, clean site names again\n",
    "df['site'] = df['site'].str.strip()\n",
    "df['site'] = df['site'].str.lower()\n",
    "df['site'] = df['site'].str.replace('_', '', regex=False)\n",
    "df['site'] = df['site'].str.replace(r'\\s+', ' ', regex=True)\n",
    "\n",
    "site_stats = summarize_by_group (\n",
    "    df,\n",
    "    'site',\n",
    "    agg_dict={\n",
    "        'age':['mean', 'std', 'min', 'max'],\n",
    "        'bmi':['mean', 'std'],\n",
    "        'systolic_bp':['mean', 'median']\n",
    "    }\n",
    ")\n",
    "\n",
    "print(\"Statistics by site\")\n",
    "\n",
    "print (site_stats.round(2))\n",
    "\n",
    "\n",
    "# Display in a well-formatted table\n",
    "display(site_stats.round(2))\n",
    "\n",
    "print()\n",
    "print(\"=\"*80)"
   ]
  },
  {
   "cell_type": "markdown",
   "metadata": {},
   "source": [
    "## Part 3: Comparative Analysis (5 points)\n",
    "\n",
    "Compare intervention groups:\n",
    "1. Calculate mean outcome_cvd rate by intervention_group\n",
    "2. Calculate mean adherence_pct by intervention_group\n",
    "3. Create a cross-tabulation of intervention_group vs dropout status\n",
    "4. Visualize the comparison with a bar plot"
   ]
  },
  {
   "cell_type": "code",
   "execution_count": 6,
   "metadata": {
    "execution": {
     "iopub.execute_input": "2025-10-29T04:56:32.109612Z",
     "iopub.status.busy": "2025-10-29T04:56:32.109559Z",
     "iopub.status.idle": "2025-10-29T04:56:32.130144Z",
     "shell.execute_reply": "2025-10-29T04:56:32.129859Z"
    }
   },
   "outputs": [
    {
     "name": "stdout",
     "output_type": "stream",
     "text": [
      "1. Mean CVD outcome rate by intervention group:\n",
      "Series([], Name: count, dtype: int64)\n",
      "\n",
      "2. Mean adherence percentage by intervention group:\n",
      "intervention_group\n",
      "contrl         59.96\n",
      "control        60.86\n",
      "treatmen a     59.85\n",
      "treatment a    60.68\n",
      "treatment b    61.01\n",
      "treatmenta     59.23\n",
      "Name: adherence_pct, dtype: float64\n",
      "\n",
      "3. Cross-tabulation of intervention group vs. droupout status:\n",
      "dropout               No   Yes    All\n",
      "intervention_group                   \n",
      "contrl               742   133    875\n",
      "control             2089   373   2462\n",
      "treatmen a           560    92    652\n",
      "treatment a         1677   291   1968\n",
      "treatment b         2871   471   3342\n",
      "treatmenta           594   107    701\n",
      "All                 8533  1467  10000\n",
      "\n",
      "Dropout rates by group:\n",
      "dropout                No    Yes\n",
      "intervention_group              \n",
      "contrl              84.80  15.20\n",
      "control             84.85  15.15\n",
      "treatmen a          85.89  14.11\n",
      "treatment a         85.21  14.79\n",
      "treatment b         85.91  14.09\n",
      "treatmenta          84.74  15.26\n",
      "\n"
     ]
    }
   ],
   "source": [
    "# TODO: Intervention group comparisons\n",
    "\n",
    "# first, clean intervention_group again\n",
    "df['intervention_group'] = df['intervention_group'].str.strip().str.lower().str.replace('_', '', regex=False).str.replace(r'\\s+', ' ', regex=True)\n",
    "\n",
    "# Convert CVD outcome to numeric\n",
    "df['outcome_cvd'] = pd.to_numeric(df['outcome_cvd'], errors = 'coerce')\n",
    "print(\"1. Mean CVD outcome rate by intervention group:\")\n",
    "cvd_by_group = df.groupby('intervention_group')['outcome_cvd'].value_counts()\n",
    "print(cvd_by_group.round(4))\n",
    "print()\n",
    "\n",
    "print(\"2. Mean adherence percentage by intervention group:\")\n",
    "adherence_by_group = df.groupby('intervention_group')['adherence_pct'].mean()\n",
    "print(adherence_by_group.round(2))\n",
    "print()\n",
    "\n",
    "print(\"3. Cross-tabulation of intervention group vs. droupout status:\")\n",
    "crosstab = pd.crosstab(df['intervention_group'], df['dropout'], margins = True)\n",
    "print(crosstab)\n",
    "print()\n",
    "\n",
    "print(\"Dropout rates by group:\")\n",
    "dropout_rates = pd.crosstab(df['intervention_group'], df['dropout'])\n",
    "dropout_rates = pd.crosstab(df['intervention_group'], df['dropout'], normalize='index') * 100\n",
    "print(dropout_rates.round(2))\n",
    "print()"
   ]
  },
  {
   "cell_type": "code",
   "execution_count": 7,
   "metadata": {
    "execution": {
     "iopub.execute_input": "2025-10-29T04:56:32.131175Z",
     "iopub.status.busy": "2025-10-29T04:56:32.131117Z",
     "iopub.status.idle": "2025-10-29T04:56:32.691650Z",
     "shell.execute_reply": "2025-10-29T04:56:32.691371Z"
    }
   },
   "outputs": [
    {
     "name": "stdout",
     "output_type": "stream",
     "text": [
      "Cleaned intervention groups: ['control' 'treatment b' 'treatmen a' 'treatmenta' 'treatment a' 'contrl']\n",
      "\n",
      "Converting outcome_cvd to numeric\n",
      "\n",
      "Calculate group statistics...\n",
      "\n",
      "CVD by group:\n",
      "intervention_group\n",
      "contrl        NaN\n",
      "control       NaN\n",
      "treatmen a    NaN\n",
      "treatment a   NaN\n",
      "treatment b   NaN\n",
      "treatmenta    NaN\n",
      "Name: outcome_cvd, dtype: float64\n",
      "\n",
      "Adherence by group:\n",
      "intervention_group\n",
      "contrl         59.962264\n",
      "control        60.855912\n",
      "treatmen a     59.846429\n",
      "treatment a    60.679785\n",
      "treatment b    61.009404\n",
      "treatmenta     59.227273\n",
      "Name: adherence_pct, dtype: float64\n",
      "\n",
      "Dropout rates (%):\n",
      "intervention_group\n",
      "contrl         15.200000\n",
      "control        15.150284\n",
      "treatmen a     14.110429\n",
      "treatment a    14.786585\n",
      "treatment b    14.093357\n",
      "treatmenta     15.263909\n",
      "Name: dropout, dtype: float64\n",
      "\n"
     ]
    },
    {
     "name": "stdout",
     "output_type": "stream",
     "text": [
      "Dropout rates (%):\n",
      "\n",
      "intervention_group\n",
      "contrl         15.200000\n",
      "control        15.150284\n",
      "treatmen a     14.110429\n",
      "treatment a    14.786585\n",
      "treatment b    14.093357\n",
      "treatmenta     15.263909\n",
      "Name: dropout, dtype: float64\n",
      "\n"
     ]
    },
    {
     "name": "stdout",
     "output_type": "stream",
     "text": [
      "Visualization saved to output/intervention_comparison.png\n"
     ]
    },
    {
     "data": {
      "image/png": "[encoded data removed]",
      "text/plain": [
       "<Figure size 1500x500 with 3 Axes>"
      ]
     },
     "metadata": {},
     "output_type": "display_data"
    }
   ],
   "source": [
    "# TODO: Visualization\n",
    "\n",
    "# Clean intervention groups first again\n",
    "df['intervention_group'] = df['intervention_group'].str.strip().str.lower().str.replace('_', '', regex=False).str.replace(r'\\s+', ' ', regex=True)\n",
    "\n",
    "\n",
    "print(\"Cleaned intervention groups:\", df['intervention_group'].unique())\n",
    "print()\n",
    "\n",
    "# Convert outcome_cvd to numeric\n",
    "print(\"Converting outcome_cvd to numeric\")\n",
    "if df['outcome_cvd'].dtype == 'object':\n",
    "    df['outcome_cvd'] = df['outcome_cvd'].map({'Yes': 1, 'No': 0, 'yes': 1, 'no': 0})\n",
    "print()\n",
    "\n",
    "# Convert adherence to numeric\n",
    "df['adherence_pct'] = pd.to_numeric(df['adherence_pct'], errors='coerce')\n",
    "\n",
    "# Convert dropout to numeric\n",
    "if df['dropout'].dtype == 'object':\n",
    "    df['dropout'] = df['dropout'].map({'Yes': 1, 'No': 0, 'yes': 1, 'no': 0})\n",
    "    \n",
    "print(\"Calculate group statistics...\")\n",
    "cvd_by_group = df.groupby('intervention_group')['outcome_cvd'].mean()\n",
    "adherence_by_group = df.groupby('intervention_group')['adherence_pct'].mean()\n",
    "dropout_rates_plot = df.groupby('intervention_group')['dropout'].mean() * 100\n",
    "\n",
    "print(\"\\nCVD by group:\")\n",
    "print(cvd_by_group)\n",
    "print(\"\\nAdherence by group:\")\n",
    "print(adherence_by_group)\n",
    "print(\"\\nDropout rates (%):\")\n",
    "print(dropout_rates_plot)\n",
    "print()\n",
    "\n",
    "\n",
    "fig, axes = plt.subplots(1, 3, figsize=(15, 5))\n",
    "\n",
    "# Plot 1: CVD outcome rate\n",
    "cvd_by_group.plot(kind='bar', ax=axes[0], color='blue')\n",
    "axes[0].set_title('Mean CVD Outcome Rate by Intervention Group')\n",
    "axes[0].set_xlabel('Intervention Group')\n",
    "axes[0].set_ylabel('CVD Rate')\n",
    "axes[0].tick_params(axis='x', rotation=45)\n",
    "axes[0].grid(axis='y', alpha=0.3)\n",
    "\n",
    "# Plot 2: Adherence percentage\n",
    "adherence_by_group.plot(kind='bar', ax=axes[1], color='green')\n",
    "axes[1].set_title('Mean Adherence by Intervention Group')\n",
    "axes[1].set_xlabel('Intervention Group')\n",
    "axes[1].set_ylabel('Adherence (%)')\n",
    "axes[1].tick_params(axis='x', rotation=45)\n",
    "axes[1].grid(axis='y', alpha=0.3)\n",
    "\n",
    "# Plot 3: Dropout rate\n",
    "dropout_rates_plot = df.groupby('intervention_group')['dropout'].mean() * 100\n",
    "\n",
    "print(\"Dropout rates (%):\\n\")\n",
    "print(dropout_rates_plot)\n",
    "print()\n",
    "\n",
    "dropout_rates_plot.plot(kind='bar', ax=axes[2], color='red', alpha=0.7)\n",
    "axes[2].set_title('Dropout Rate by Intervention Group')\n",
    "axes[2].set_xlabel('Intervention Group')\n",
    "axes[2].set_ylabel('Dropout Rate (%)')\n",
    "axes[2].tick_params(axis='x', rotation=45)\n",
    "axes[2].grid(axis='y', alpha=0.3)\n",
    "\n",
    "plt.tight_layout()\n",
    "plt.savefig('output/intervention_comparison.png', dpi=300, bbox_inches='tight')\n",
    "print(\"Visualization saved to output/intervention_comparison.png\")\n",
    "plt.show()"
   ]
  },
  {
   "cell_type": "markdown",
   "metadata": {},
   "source": [
    "## Part 4: Final Report\n",
    "\n",
    "Create and save:\n",
    "1. Summary statistics by site → `output/q7_site_summary.csv`\n",
    "2. Intervention group comparison → `output/q7_intervention_comparison.csv`\n",
    "3. Text report with key findings → `output/q7_analysis_report.txt`"
   ]
  },
  {
   "cell_type": "code",
   "execution_count": 8,
   "metadata": {
    "execution": {
     "iopub.execute_input": "2025-10-29T04:56:32.692855Z",
     "iopub.status.busy": "2025-10-29T04:56:32.692788Z",
     "iopub.status.idle": "2025-10-29T04:56:32.699138Z",
     "shell.execute_reply": "2025-10-29T04:56:32.698844Z"
    }
   },
   "outputs": [
    {
     "name": "stdout",
     "output_type": "stream",
     "text": [
      "1. Site summary:\n",
      "Site summary saved to output/q7_site_summary.csv\n",
      "2. Intervention group CVD comparison\n",
      "Intervention group CVD comparison saved to output/q7_intervention_comparison.csv\n",
      "3. Text report with key findings generated and saved to output/q7_analysis_report.txt\n"
     ]
    }
   ],
   "source": [
    "# TODO: Save summary outputs\n",
    "print(\"1. Site summary:\")\n",
    "site_stats.to_csv('output/q7_site_summary.csv')\n",
    "print(\"Site summary saved to output/q7_site_summary.csv\")\n",
    "\n",
    "print(\"2. Intervention group CVD comparison\")\n",
    "cvd_by_group.to_csv('output/q7_intervention_comparison.csv')\n",
    "print(\"Intervention group CVD comparison saved to output/q7_intervention_comparison.csv\")\n",
    "\n",
    "with open('output/q7_analysis_report.txt', 'w') as f:\n",
    "    f.write(\"=\"*80 + \"\\n\")\n",
    "    f.write(\"3. Text report with key findings\\n\")\n",
    "    f.write(\"=\"*80 + \"\\n\\n\")\n",
    "    \n",
    "    # 1. Site summary\n",
    "    f.write(\"1. Mean values by site\\n\")\n",
    "    f.write(site_summary.round(2).to_string())\n",
    "    f.write(\"\\n\\n\")\n",
    "    \n",
    "    # 2. Intervention Counts\n",
    "    f.write(\"2. Intervention Counts\\n\")\n",
    "    f.write(intervention_counts.round(2).to_string())\n",
    "    f.write(\"\\n\\n\")\n",
    "    \n",
    "    # 3. Site statistics\n",
    "    f.write(\"3. Age, BMI, systolic BP by Site\\n\")\n",
    "    f.write(site_stats.round(2).to_string())\n",
    "    f.write(\"\\n\\n\")\n",
    "    \n",
    "    # 4. Cardiovascular disease by group\n",
    "    f.write(\"4. Cardiovascular disease by group\\n\")\n",
    "    f.write(cvd_by_group.round(2).to_string())\n",
    "    f.write(\"\\n\\n\")\n",
    "    \n",
    "    # 5. Adherence by group\n",
    "    f.write(\"5. Adherence by group\\n\")\n",
    "    f.write(adherence_by_group.round(2).to_string())\n",
    "    f.write(\"\\n\\n\")  \n",
    "    \n",
    "    # 6. Intervention group vs. droupout status\n",
    "    f.write(\"6. Intervention group vs. dropout status\\n\")\n",
    "    f.write(crosstab.round(2).to_string())\n",
    "    f.write(\"\\n\\n\")\n",
    "    \n",
    "    # 7. Dropout rates by group\n",
    "    f.write(\"7. Dropout rates by group\\n\")\n",
    "    f.write(dropout_rates.round(2).to_string())\n",
    "    f.write(\"\\n\\n\")\n",
    "\n",
    "print(\"3. Text report with key findings generated and saved to output/q7_analysis_report.txt\")  "
   ]
  },
  {
   "cell_type": "markdown",
   "metadata": {},
   "source": [
    "## Summary\n",
    "\n",
    "What are the 3 most important findings from your analysis?"
   ]
  },
  {
   "cell_type": "markdown",
   "metadata": {},
   "source": [
    "**Key Findings:**\n",
    "\n",
    "1. It would be WAY easier to start analysis with a cleaned dataset. We ran analyses on the raw data and had to clean each variable before each analysis.\n",
    "2. Data is so messy! It is often difficult to visualize all of the inconsistencies in data input. \n",
    "3. It's very important to remember and spell the names of your variables correctly. \n"
   ]
  }
 ],
 "metadata": {
  "kernelspec": {
   "display_name": ".venv",
   "language": "python",
   "name": "python3"
  },
  "language_info": {
   "codemirror_mode": {
    "name": "ipython",
    "version": 3
   },
   "file_extension": ".py",
   "mimetype": "text/x-python",
   "name": "python",
   "nbconvert_exporter": "python",
   "pygments_lexer": "ipython3",
   "version": "3.13.7"
  }
 },
 "nbformat": 4,
 "nbformat_minor": 2
}
