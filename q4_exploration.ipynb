{
 "cells": [
  {
   "cell_type": "markdown",
   "metadata": {},
   "source": [
    "# Assignment 5, Question 4: Data Exploration\n",
    "\n",
    "**Points: 15**\n",
    "\n",
    "In this notebook, you'll explore the clinical trial dataset using pandas selection and filtering techniques.\n",
    "\n",
    "You'll use utility functions from `q3_data_utils` where helpful, but also demonstrate direct pandas operations."
   ]
  },
  {
   "cell_type": "markdown",
   "metadata": {},
   "source": [
    "## Setup"
   ]
  },
  {
   "cell_type": "code",
   "execution_count": 1,
   "metadata": {},
   "outputs": [
    {
     "name": "stdout",
     "output_type": "stream",
     "text": [
      "Run test on q3_data cleanup...\n",
      "Test DataFrame created: (5, 3)\n",
      "Test detect_missing: 2\n",
      "Test passed!\n",
      "Loaded 10000 patients with 18 variables\n"
     ]
    }
   ],
   "source": [
    "import pandas as pd\n",
    "import numpy as np\n",
    "import matplotlib.pyplot as plt\n",
    "\n",
    "# Import utilities from Q3\n",
    "from q3_data_utils import load_data, detect_missing, filter_data   \n",
    "\n",
    "# Load the data\n",
    "df = load_data('data/clinical_trial_raw.csv')\n",
    "print(f\"Loaded {len(df)} patients with {len(df.columns)} variables\")\n",
    "\n",
    "# Prewritten visualization functions for exploration\n",
    "def plot_value_counts(series, title, figsize=(10, 6)):\n",
    "    \"\"\"\n",
    "    Create a bar chart of value counts.\n",
    "    \n",
    "    Args:\n",
    "        series: pandas Series with value counts\n",
    "        title: Chart title\n",
    "        figsize: Figure size tuple\n",
    "    \"\"\"\n",
    "    plt.figure(figsize=figsize)\n",
    "    series.plot(kind=\"bar\")\n",
    "    plt.title(title)\n",
    "    plt.xticks(rotation=45)\n",
    "    plt.tight_layout()\n",
    "    plt.show()\n",
    "\n",
    "def plot_crosstab(crosstab_data, title, figsize=(10, 6)):\n",
    "    \"\"\"\n",
    "    Create a heatmap of crosstab data.\n",
    "    \n",
    "    Args:\n",
    "        crosstab_data: pandas DataFrame from pd.crosstab()\n",
    "        title: Chart title\n",
    "        figsize: Figure size tuple\n",
    "    \"\"\"\n",
    "    plt.figure(figsize=figsize)\n",
    "    plt.imshow(crosstab_data.values, cmap=\"Blues\", aspect=\"auto\")\n",
    "    plt.colorbar()\n",
    "    plt.title(title)\n",
    "    plt.xticks(range(len(crosstab_data.columns)), crosstab_data.columns, rotation=45)\n",
    "    plt.yticks(range(len(crosstab_data.index)), crosstab_data.index)\n",
    "    plt.tight_layout()\n",
    "    plt.show()"
   ]
  },
  {
   "cell_type": "markdown",
   "metadata": {},
   "source": [
    "## Part 1: Basic Exploration (3 points)\n",
    "\n",
    "Display:\n",
    "1. Dataset shape\n",
    "2. Column names and types\n",
    "3. First 10 rows\n",
    "4. Summary statistics (.describe())"
   ]
  },
  {
   "cell_type": "code",
   "execution_count": 4,
   "metadata": {},
   "outputs": [
    {
     "name": "stdout",
     "output_type": "stream",
     "text": [
      "1. Dataset shape:\n",
      " Rows: 10000, Columns: 18\n",
      "\n",
      "2. Column names and types:\n",
      "patient_id             object\n",
      "age                     int64\n",
      "sex                    object\n",
      "bmi                   float64\n",
      "enrollment_date        object\n",
      "systolic_bp           float64\n",
      "diastolic_bp          float64\n",
      "cholesterol_total     float64\n",
      "cholesterol_hdl       float64\n",
      "cholesterol_ldl       float64\n",
      "glucose_fasting       float64\n",
      "site                   object\n",
      "intervention_group     object\n",
      "follow_up_months        int64\n",
      "adverse_events          int64\n",
      "outcome_cvd            object\n",
      "adherence_pct         float64\n",
      "dropout                object\n",
      "dtype: object\n",
      "\n",
      "3. First 10 rows:\n",
      "  patient_id  age         sex   bmi enrollment_date  systolic_bp  \\\n",
      "0     P00001   80           F  29.3      2022-05-01        123.0   \n",
      "1     P00002   80    Female     NaN      2022-01-06        139.0   \n",
      "2     P00003   82      Female  -1.0      2023-11-04        123.0   \n",
      "3     P00004   95      Female  25.4      2022-08-15        116.0   \n",
      "4     P00005   95           M   NaN      2023-04-17         97.0   \n",
      "5     P00006   78           F  26.8      2023-08-29        116.0   \n",
      "6     P00007   84           F  25.4      2022-05-12        133.0   \n",
      "7     P00008   70        Male  24.7      2022-06-04        111.0   \n",
      "8     P00009   92      Female  26.9      2022-04-06          NaN   \n",
      "9     P00010   75        Male  21.1      2023-12-14        128.0   \n",
      "\n",
      "   diastolic_bp  cholesterol_total  cholesterol_hdl  cholesterol_ldl  \\\n",
      "0          80.0              120.0             55.0             41.0   \n",
      "1          81.0              206.0             58.0            107.0   \n",
      "2          86.0              172.0             56.0             82.0   \n",
      "3          77.0              200.0             56.0            104.0   \n",
      "4          71.0              185.0             78.0             75.0   \n",
      "5          66.0              164.0             54.0             99.0   \n",
      "6         100.0              215.0             62.0            113.0   \n",
      "7          72.0              174.0             60.0             94.0   \n",
      "8           NaN              189.0             62.0             89.0   \n",
      "9          76.0              218.0             77.0             97.0   \n",
      "\n",
      "   glucose_fasting    site intervention_group  follow_up_months  \\\n",
      "0            118.0  site b            Control                20   \n",
      "1             79.0  Site A            CONTROL                24   \n",
      "2             77.0  SITE C      treatment b                   2   \n",
      "3            115.0  Site D        treatment b                17   \n",
      "4            113.0  site e         Treatmen A                 9   \n",
      "5             99.0  Site A         TreatmentA                 4   \n",
      "6             70.0  site a        treatment a                20   \n",
      "7            109.0  SITE B        TREATMENT A                19   \n",
      "8            103.0  site a            Control                21   \n",
      "9             96.0  SITE A        Treatment B                 1   \n",
      "\n",
      "   adverse_events outcome_cvd  adherence_pct dropout  \n",
      "0               0          No           24.0      No  \n",
      "1               0          No           77.0      No  \n",
      "2               0         Yes           70.0      No  \n",
      "3               0          No           62.0      No  \n",
      "4               0         yes            NaN     Yes  \n",
      "5               0         yes            NaN     Yes  \n",
      "6               1          No           76.0      No  \n",
      "7               0          No           53.0      No  \n",
      "8               0         yes           53.0      No  \n",
      "9               0          No           50.0      No  \n",
      "\n",
      "4. Summary statistics:\n",
      "                age          bmi  systolic_bp  diastolic_bp  \\\n",
      "count  10000.000000  9562.000000  9586.000000   9586.000000   \n",
      "mean      59.182700    25.730558   117.531087     73.550908   \n",
      "std      151.769963     5.339547    13.973973     10.167464   \n",
      "min     -999.000000    -1.000000    75.000000     60.000000   \n",
      "25%       70.000000    23.500000   108.000000     65.000000   \n",
      "50%       80.000000    26.000000   117.000000     73.000000   \n",
      "75%       92.000000    28.775000   127.000000     81.000000   \n",
      "max      100.000000    42.800000   173.000000    118.000000   \n",
      "\n",
      "       cholesterol_total  cholesterol_hdl  cholesterol_ldl  glucose_fasting  \\\n",
      "count        9446.000000      9446.000000      9446.000000      9631.000000   \n",
      "mean          178.039488        61.369786        85.698603        96.424255   \n",
      "std            33.129034        11.062101        28.686463        17.112961   \n",
      "min            91.000000        25.000000        40.000000        51.000000   \n",
      "25%           155.000000        54.000000        65.000000        84.000000   \n",
      "50%           177.000000        61.000000        84.000000        96.000000   \n",
      "75%           200.000000        69.000000       105.000000       108.000000   \n",
      "max           315.000000        98.000000       226.000000       163.000000   \n",
      "\n",
      "       follow_up_months  adverse_events  adherence_pct  \n",
      "count       10000.00000    10000.000000    8533.000000  \n",
      "mean           12.25460        0.145500      60.615610  \n",
      "std             7.07675        0.393631      18.974399  \n",
      "min             0.00000        0.000000      20.000000  \n",
      "25%             6.00000        0.000000      47.000000  \n",
      "50%            12.00000        0.000000      62.000000  \n",
      "75%            19.00000        0.000000      75.000000  \n",
      "max            24.00000        4.000000     100.000000  \n",
      "\n"
     ]
    }
   ],
   "source": [
    "# TODO: Display dataset info\n",
    "print(\"1. Dataset shape:\")\n",
    "print(f\" Rows: {df.shape[0]}, Columns: {df.shape[1]}\")\n",
    "print()\n",
    "\n",
    "print(\"2. Column names and types:\")\n",
    "print(df.dtypes)\n",
    "print()\n",
    "\n",
    "print(\"3. First 10 rows:\")\n",
    "print(df.head(10))\n",
    "print()\n",
    "\n",
    "print (\"4. Summary statistics:\")\n",
    "print(df.describe())\n",
    "print()"
   ]
  },
  {
   "cell_type": "markdown",
   "metadata": {},
   "source": [
    "## Part 2: Column Selection (3 points)\n",
    "\n",
    "Demonstrate different selection methods:\n",
    "\n",
    "1. Select only numeric columns using `.select_dtypes()`\n",
    "2. Select specific columns by name\n",
    "3. Select a subset of rows and columns using `.loc[]`"
   ]
  },
  {
   "cell_type": "code",
   "execution_count": 15,
   "metadata": {},
   "outputs": [
    {
     "name": "stdout",
     "output_type": "stream",
     "text": [
      "1. Numeric columns only:\n",
      "\n",
      "   age   bmi  systolic_bp  diastolic_bp  cholesterol_total  cholesterol_hdl  \\\n",
      "0   80  29.3        123.0          80.0              120.0             55.0   \n",
      "1   80   NaN        139.0          81.0              206.0             58.0   \n",
      "2   82  -1.0        123.0          86.0              172.0             56.0   \n",
      "3   95  25.4        116.0          77.0              200.0             56.0   \n",
      "4   95   NaN         97.0          71.0              185.0             78.0   \n",
      "\n",
      "   cholesterol_ldl  glucose_fasting  follow_up_months  adverse_events  \\\n",
      "0             41.0            118.0                20               0   \n",
      "1            107.0             79.0                24               0   \n",
      "2             82.0             77.0                 2               0   \n",
      "3            104.0            115.0                17               0   \n",
      "4             75.0            113.0                 9               0   \n",
      "\n",
      "   adherence_pct  \n",
      "0           24.0  \n",
      "1           77.0  \n",
      "2           70.0  \n",
      "3           62.0  \n",
      "4            NaN  \n",
      "Shape: (10000, 11)\n",
      "\n"
     ]
    }
   ],
   "source": [
    "# TODO: Select numeric columns\n",
    "print(\"1. Numeric columns only:\\n\")\n",
    "numeric = df.select_dtypes(include=['number'])\n",
    "print(numeric.head())\n",
    "print(f\"Shape: {numeric.shape}\")\n",
    "print()\n"
   ]
  },
  {
   "cell_type": "code",
   "execution_count": 6,
   "metadata": {},
   "outputs": [
    {
     "name": "stdout",
     "output_type": "stream",
     "text": [
      "Index(['patient_id', 'age', 'sex', 'bmi', 'enrollment_date', 'systolic_bp',\n",
      "       'diastolic_bp', 'cholesterol_total', 'cholesterol_hdl',\n",
      "       'cholesterol_ldl', 'glucose_fasting', 'site', 'intervention_group',\n",
      "       'follow_up_months', 'adverse_events', 'outcome_cvd', 'adherence_pct',\n",
      "       'dropout'],\n",
      "      dtype='object')\n"
     ]
    }
   ],
   "source": [
    "print(df.columns) # for next question: choose columns to select"
   ]
  },
  {
   "cell_type": "code",
   "execution_count": 14,
   "metadata": {},
   "outputs": [
    {
     "name": "stdout",
     "output_type": "stream",
     "text": [
      "2. Specific columns by name:\n",
      "\n",
      "  patient_id  age  glucose_fasting  cholesterol_total\n",
      "0     P00001   80            118.0              120.0\n",
      "1     P00002   80             79.0              206.0\n",
      "2     P00003   82             77.0              172.0\n",
      "3     P00004   95            115.0              200.0\n",
      "4     P00005   95            113.0              185.0\n",
      "Shape: (10000, 4)\n",
      "\n"
     ]
    }
   ],
   "source": [
    "# TODO: Select specific columns\n",
    "# example: select patient_id, age, glucose_fasting, cholesterol_total\n",
    "print(\"2. Specific columns by name:\\n\")\n",
    "selected_columns = df[['patient_id','age', 'glucose_fasting', 'cholesterol_total']]\n",
    "print(selected_columns.head())\n",
    "print(f\"Shape: {selected_columns.shape}\")\n",
    "print()"
   ]
  },
  {
   "cell_type": "code",
   "execution_count": 13,
   "metadata": {},
   "outputs": [
    {
     "name": "stdout",
     "output_type": "stream",
     "text": [
      "3. Subset of rows and columns (age >30, patient_id, age, cholesterol_total):\n",
      "\n",
      "  patient_id  age  cholesterol_total\n",
      "0     P00001   80              120.0\n",
      "1     P00002   80              206.0\n",
      "2     P00003   82              172.0\n",
      "3     P00004   95              200.0\n",
      "4     P00005   95              185.0\n",
      "\n"
     ]
    }
   ],
   "source": [
    "# TODO: Use .loc[] to select subset\n",
    "# example: select for age >30, patient_id, age, cholesterol_total columns\n",
    "print(\"3. Subset of rows and columns (age >30, patient_id, age, cholesterol_total):\\n\")\n",
    "subset = df.loc[df['age']>30, ['patient_id', 'age', 'cholesterol_total']]\n",
    "print(subset.head())\n",
    "print()"
   ]
  },
  {
   "cell_type": "markdown",
   "metadata": {},
   "source": [
    "## Part 3: Filtering (4 points)\n",
    "\n",
    "Filter the data to answer these questions:\n",
    "\n",
    "1. How many patients are over 65 years old?\n",
    "2. How many patients have systolic BP > 140?\n",
    "3. Find patients who are both over 65 AND have systolic BP > 140\n",
    "4. Find patients from Site A or Site B using `.isin()`"
   ]
  },
  {
   "cell_type": "code",
   "execution_count": 16,
   "metadata": {},
   "outputs": [
    {
     "name": "stdout",
     "output_type": "stream",
     "text": [
      "1. Patients over 65 years old:\n",
      "\n",
      " Count: 8326\n",
      "\n",
      "  patient_id  age         sex   bmi enrollment_date  systolic_bp  \\\n",
      "0     P00001   80           F  29.3      2022-05-01        123.0   \n",
      "1     P00002   80    Female     NaN      2022-01-06        139.0   \n",
      "2     P00003   82      Female  -1.0      2023-11-04        123.0   \n",
      "3     P00004   95      Female  25.4      2022-08-15        116.0   \n",
      "4     P00005   95           M   NaN      2023-04-17         97.0   \n",
      "\n",
      "   diastolic_bp  cholesterol_total  cholesterol_hdl  cholesterol_ldl  \\\n",
      "0          80.0              120.0             55.0             41.0   \n",
      "1          81.0              206.0             58.0            107.0   \n",
      "2          86.0              172.0             56.0             82.0   \n",
      "3          77.0              200.0             56.0            104.0   \n",
      "4          71.0              185.0             78.0             75.0   \n",
      "\n",
      "   glucose_fasting    site intervention_group  follow_up_months  \\\n",
      "0            118.0  site b            Control                20   \n",
      "1             79.0  Site A            CONTROL                24   \n",
      "2             77.0  SITE C      treatment b                   2   \n",
      "3            115.0  Site D        treatment b                17   \n",
      "4            113.0  site e         Treatmen A                 9   \n",
      "\n",
      "   adverse_events outcome_cvd  adherence_pct dropout  \n",
      "0               0          No           24.0      No  \n",
      "1               0          No           77.0      No  \n",
      "2               0         Yes           70.0      No  \n",
      "3               0          No           62.0      No  \n",
      "4               0         yes            NaN     Yes  \n",
      "\n"
     ]
    }
   ],
   "source": [
    "# TODO: Filter and count patients over 65\n",
    "# 1. Use the filter_data utility from Q3\n",
    "# 2. Create a filter for age > 65\n",
    "# 3. Apply the filter and count the results\n",
    "# print(f\"Patients over 65: {len(patients_over_65)}\")\n",
    "print(\"1. Patients over 65 years old:\\n\")\n",
    "over_65 = df[df['age'] > 65]\n",
    "print(f\" Count: {len(over_65)}\\n\")\n",
    "print(over_65.head())\n",
    "print()"
   ]
  },
  {
   "cell_type": "code",
   "execution_count": 12,
   "metadata": {},
   "outputs": [
    {
     "name": "stdout",
     "output_type": "stream",
     "text": [
      "2. Patients with systolic BP > 140:\n",
      "\n",
      "Count:538\n",
      "\n",
      "    patient_id  age   sex   bmi enrollment_date  systolic_bp  diastolic_bp  \\\n",
      "33      P00034   83  Male  37.1      2022-01-18        143.0         100.0   \n",
      "34      P00035   70     M  34.4      2022-10-21        143.0          73.0   \n",
      "82      P00083   73     F  22.4      2023-03-13        152.0          80.0   \n",
      "114     P00115   88     M  35.2      2022-07-05        142.0          80.0   \n",
      "116     P00117   61     F  32.5      2022-11-30        141.0          89.0   \n",
      "\n",
      "     cholesterol_total  cholesterol_hdl  cholesterol_ldl  glucose_fasting  \\\n",
      "33               187.0             51.0             99.0            115.0   \n",
      "34               146.0             69.0             48.0            156.0   \n",
      "82               199.0             50.0            109.0            105.0   \n",
      "114              152.0             33.0             89.0            125.0   \n",
      "116              150.0             51.0             69.0            146.0   \n",
      "\n",
      "       site intervention_group  follow_up_months  adverse_events outcome_cvd  \\\n",
      "33   SITE B            CONTROL                24               0         Yes   \n",
      "34   site d            CONTROL                15               0          no   \n",
      "82   Site C            CONTROL                10               0          No   \n",
      "114  site d             Contrl                18               0         yes   \n",
      "116  site e             Contrl                13               0          No   \n",
      "\n",
      "     adherence_pct dropout  \n",
      "33             NaN     Yes  \n",
      "34            50.0      No  \n",
      "82            81.0      No  \n",
      "114           69.0      No  \n",
      "116           96.0      No  \n",
      "\n",
      "Patients with high BP: 538\n"
     ]
    }
   ],
   "source": [
    "# TODO: Filter for high BP ****!!!\n",
    "# 1. Use the filter_data utility from Q3\n",
    "# 2. Create a filter for systolic_bp > 140\n",
    "# 3. Apply the filter and count the results\n",
    "# print(f\"Patients with high BP: {len(high_bp)}\")\n",
    "print(\"2. Patients with systolic BP > 140:\")\n",
    "high_bp = df[df['systolic_bp'] > 140]\n",
    "print(f\"\\nCount:{len(high_bp)}\\n\")\n",
    "print(high_bp.head())\n",
    "print(f\"\\nPatients with high BP: {len(high_bp)}\")"
   ]
  },
  {
   "cell_type": "code",
   "execution_count": 8,
   "metadata": {},
   "outputs": [
    {
     "name": "stdout",
     "output_type": "stream",
     "text": [
      "Patients over 65 AND high BP: 464\n",
      "\n",
      "Patients in age range 65-100 AND high BP: {len(in_range_results)}\n"
     ]
    }
   ],
   "source": [
    "# TODO: Multiple conditions with &\n",
    "# 1. Use filter_data for multiple conditions:\n",
    "# 2. Create filters for both conditions:\n",
    "#     {'column': 'age', 'condition': 'greater_than', 'value': 65},\n",
    "#     {'column': 'systolic_bp', 'condition': 'greater_than', 'value': 140}\n",
    "# ]\n",
    "# 3. Apply the filter and count the results\n",
    "# print(f\"Patients over 65 AND high BP: {len(both_conditions)}\")\n",
    "# 5. Alternative: Use in_range for age range:\n",
    "# 5. Create filter for age range 65-100\n",
    "# 6. Apply the filter and count the results\n",
    "\n",
    "# 1. Use filter for multiple conditions\n",
    "filters = [\n",
    "    {'column': 'age', 'condition': 'greater_than', 'value': 65},\n",
    "    {'column': 'systolic_bp', 'condition': 'greater_than', 'value': 140}\n",
    "]\n",
    "# 3. Apply filter and count results\n",
    "both_conditions = filter_data(df, filters)\n",
    "print(f\"Patients over 65 AND high BP: {len(both_conditions)}\")\n",
    "\n",
    "# 5. Alternative: use in-range for age-range 65-100\n",
    "in_range_filters = [\n",
    "    {'column': 'age', 'condition': 'in_range', 'value': (65, 100)},\n",
    "    {'column': 'systolic_bp', 'condition': 'greater_than', 'value': 140}\n",
    "]\n",
    "\n",
    "# 6. Apply filter and count results\n",
    "in_range_results = filter_data(df, in_range_filters)\n",
    "print(\"\\nPatients in age range 65-100 AND high BP: {len(in_range_results)}\")"
   ]
  },
  {
   "cell_type": "code",
   "execution_count": 7,
   "metadata": {},
   "outputs": [
    {
     "name": "stdout",
     "output_type": "stream",
     "text": [
      "Patients from Site A or B: 1397\n",
      "\n",
      "First 5 patients from Site A or B:\n",
      "   patient_id  age         sex   bmi enrollment_date  systolic_bp  \\\n",
      "1      P00002   80    Female     NaN      2022-01-06        139.0   \n",
      "5      P00006   78           F  26.8      2023-08-29        116.0   \n",
      "10     P00011   79      Female  23.5      2023-06-12        110.0   \n",
      "18     P00019  100           M  24.6      2022-01-17        115.0   \n",
      "20     P00021   70      Female  28.9      03/18/2022        131.0   \n",
      "\n",
      "    diastolic_bp  cholesterol_total  cholesterol_hdl  cholesterol_ldl  \\\n",
      "1           81.0              206.0             58.0            107.0   \n",
      "5           66.0              164.0             54.0             99.0   \n",
      "10          70.0              216.0             81.0             92.0   \n",
      "18          64.0              164.0             46.0             85.0   \n",
      "20          80.0              217.0             55.0            119.0   \n",
      "\n",
      "    glucose_fasting    site intervention_group  follow_up_months  \\\n",
      "1              79.0  Site A            CONTROL                24   \n",
      "5              99.0  Site A         TreatmentA                 4   \n",
      "10             85.0  Site A            control                 7   \n",
      "18             87.0  Site A            control                24   \n",
      "20             89.0  Site A        TREATMENT B                22   \n",
      "\n",
      "    adverse_events outcome_cvd  adherence_pct dropout  \n",
      "1                0          No           77.0      No  \n",
      "5                0         yes            NaN     Yes  \n",
      "10               0          no           39.0      No  \n",
      "18               0          No           66.0      No  \n",
      "20               0          no           72.0      No  \n"
     ]
    }
   ],
   "source": [
    "# TODO: Filter by site using .isin()\n",
    "# 1. Use the filter_data utility from Q3\n",
    "# 2. Create a filter for Site A or Site B\n",
    "# 3. Apply the filter and count the results\n",
    "# 4. print(f\"Patients from Site A or B: {len(site_ab)}\")\n",
    "\n",
    "# 2. Create filter A or B\n",
    "site_filter = [\n",
    "    {'column': 'site', 'condition': 'isin', 'value': ['Site A', 'Site B']}\n",
    "]\n",
    "\n",
    "# 3. Apply the filter and count\n",
    "site_ab = filter_data(df, site_filter)\n",
    "\n",
    "# 4. Print\n",
    "print(f\"Patients from Site A or B: {len(site_ab)}\")\n",
    "print(\"\\nFirst 5 patients from Site A or B:\")\n",
    "print(site_ab.head())"
   ]
  },
  {
   "cell_type": "markdown",
   "metadata": {},
   "source": [
    "## Part 4: Value Counts and Grouping (5 points)\n",
    "\n",
    "1. Get value counts for the 'site' column\n",
    "2. Get value counts for the 'intervention_group' column  \n",
    "3. Create a crosstab of site vs intervention_group\n",
    "4. Calculate mean age by site\n",
    "5. Save the site value counts to `output/q4_site_counts.csv`"
   ]
  },
  {
   "cell_type": "code",
   "execution_count": 3,
   "metadata": {},
   "outputs": [
    {
     "name": "stdout",
     "output_type": "stream",
     "text": [
      "1. Value counts for site:\n",
      "site\n",
      "site b     742\n",
      "Site B     736\n",
      "SITE B     703\n",
      "SITE A     684\n",
      "Site  A    681\n",
      "Name: count, dtype: int64\n",
      "\n",
      "2. Value counts for intervention group:\n",
      "intervention_group\n",
      "Contrl          802\n",
      "TREATMENT B     761\n",
      "Treatment  B    760\n",
      "Control         751\n",
      "treatment b     750\n",
      "Name: count, dtype: int64\n",
      "\n",
      "3. Crosstab: site vs. intervention group:\n",
      "intervention_group    CONTROL      Contrl      Control      TREATMENT A    \\\n",
      "site                                                                        \n",
      "SITE A                        0           0            0                0   \n",
      "SITE B                        0           0            1                0   \n",
      "SITE C                        0           0            0                1   \n",
      "SITE D                        0           0            0                0   \n",
      "SITE E                        0           0            0                0   \n",
      "\n",
      "intervention_group    TREATMENT B      Treatmen A      Treatment  B    \\\n",
      "site                                                                    \n",
      "SITE A                            1               0                 0   \n",
      "SITE B                            1               1                 2   \n",
      "SITE C                            0               0                 0   \n",
      "SITE D                            1               0                 0   \n",
      "SITE E                            0               0                 0   \n",
      "\n",
      "intervention_group    Treatment A      Treatment B      TreatmentA    ...  \\\n",
      "site                                                                  ...   \n",
      "SITE A                            1                0               0  ...   \n",
      "SITE B                            1                2               1  ...   \n",
      "SITE C                            0                1               1  ...   \n",
      "SITE D                            0                0               0  ...   \n",
      "SITE E                            1                2               0  ...   \n",
      "\n",
      "intervention_group  TREATMENT A  TREATMENT B  Treatmen A  Treatment  B  \\\n",
      "site                                                                     \n",
      "SITE A                        4            7           2             6   \n",
      "SITE B                        1            5           2             8   \n",
      "SITE C                        2            3           5             4   \n",
      "SITE D                        2            3           2             7   \n",
      "SITE E                        3            1           2             3   \n",
      "\n",
      "intervention_group  Treatment A  Treatment B  TreatmentA  control  \\\n",
      "site                                                                \n",
      "SITE A                        7            7           6        7   \n",
      "SITE B                        2           12           6        7   \n",
      "SITE C                        4            5           3        5   \n",
      "SITE D                        1            3           4        3   \n",
      "SITE E                        1            3           4        0   \n",
      "\n",
      "intervention_group  treatment a  treatment b  \n",
      "site                                          \n",
      "SITE A                        4            7  \n",
      "SITE B                        4           12  \n",
      "SITE C                        7            5  \n",
      "SITE D                        4            3  \n",
      "SITE E                        1            0  \n",
      "\n",
      "[5 rows x 26 columns]\n",
      "\n",
      "4. mean age by site:\n",
      "site\n",
      "SITE A      23.608108\n",
      "SITE B      59.670213\n",
      "SITE C      60.254545\n",
      "SITE D      77.853659\n",
      "SITE E      12.258065\n",
      "Name: age, dtype: float64\n",
      "\n"
     ]
    }
   ],
   "source": [
    "# TODO: Value counts and analysis\n",
    "print(\"1. Value counts for site:\")\n",
    "site_counts = df['site'].value_counts()\n",
    "print(site_counts.head())\n",
    "print()\n",
    "\n",
    "print(\"2. Value counts for intervention group:\")\n",
    "intervention_counts = df['intervention_group'].value_counts()\n",
    "print(intervention_counts.head())\n",
    "print()\n",
    "\n",
    "print(\"3. Crosstab: site vs. intervention group:\")\n",
    "crosstab = pd.crosstab(df['site'], df['intervention_group'])\n",
    "print(crosstab.head())\n",
    "print()\n",
    "\n",
    "print(\"4. mean age by site:\")\n",
    "mean_age_by_site = df.groupby('site')['age'].mean()\n",
    "print(mean_age_by_site.head())\n",
    "print()"
   ]
  },
  {
   "cell_type": "code",
   "execution_count": 4,
   "metadata": {},
   "outputs": [
    {
     "name": "stdout",
     "output_type": "stream",
     "text": [
      "5. Saving site counts to csv:\n",
      "Saved to output/q4_site_counts.csv\n",
      "\n"
     ]
    }
   ],
   "source": [
    "# TODO: Save output\n",
    "# site_counts.to_csv('output/q4_site_counts.csv')\n",
    "print(\"5. Saving site counts to csv:\")\n",
    "site_counts.to_csv('output/q4_site_counts.csv')\n",
    "print(\"Saved to output/q4_site_counts.csv\")\n",
    "print()"
   ]
  },
  {
   "cell_type": "markdown",
   "metadata": {},
   "source": [
    "## Summary\n",
    "\n",
    "Write 2-3 sentences about what you learned from exploring this dataset."
   ]
  },
  {
   "cell_type": "markdown",
   "metadata": {},
   "source": [
    "**Your summary here:**\n",
    "\n",
    "TODO: Write your observations\n",
    "\n",
    "This dataset is messy! There are inconsistencies in case formatting and spacing in the site, intervention_group, outcome_cvd. There were also likely inconsistent ways of recording \"missing\" data in the original dataset - the minimum age in the dataset is -999 years and minimum bmi is -1.00.\n"
   ]
  },
  {
   "cell_type": "markdown",
   "metadata": {},
   "source": []
  }
 ],
 "metadata": {
  "kernelspec": {
   "display_name": ".venv",
   "language": "python",
   "name": "python3"
  },
  "language_info": {
   "codemirror_mode": {
    "name": "ipython",
    "version": 3
   },
   "file_extension": ".py",
   "mimetype": "text/x-python",
   "name": "python",
   "nbconvert_exporter": "python",
   "pygments_lexer": "ipython3",
   "version": "3.13.7"
  }
 },
 "nbformat": 4,
 "nbformat_minor": 2
}
