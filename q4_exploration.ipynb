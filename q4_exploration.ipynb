{
 "cells": [
  {
   "cell_type": "markdown",
   "metadata": {},
   "source": [
    "# Assignment 5, Question 4: Data Exploration\n",
    "\n",
    "**Points: 15**\n",
    "\n",
    "In this notebook, you'll explore the clinical trial dataset using pandas selection and filtering techniques.\n",
    "\n",
    "You'll use utility functions from `q3_data_utils` where helpful, but also demonstrate direct pandas operations."
   ]
  },
  {
   "cell_type": "markdown",
   "metadata": {},
   "source": [
    "## Setup"
   ]
  },
  {
   "cell_type": "code",
   "execution_count": 8,
   "metadata": {},
   "outputs": [
    {
     "name": "stdout",
     "output_type": "stream",
     "text": [
      "Loaded 10000 patients with 18 variables\n"
     ]
    }
   ],
   "source": [
    "import pandas as pd\n",
    "import numpy as np\n",
    "import matplotlib.pyplot as plt\n",
    "\n",
    "# Import utilities from Q3\n",
    "from q3_data_utils import load_data, detect_missing, filter_data   \n",
    "\n",
    "# Load the data\n",
    "df = load_data('data/clinical_trial_raw.csv')\n",
    "print(f\"Loaded {len(df)} patients with {len(df.columns)} variables\")\n",
    "\n",
    "# Prewritten visualization functions for exploration\n",
    "def plot_value_counts(series, title, figsize=(10, 6)):\n",
    "    \"\"\"\n",
    "    Create a bar chart of value counts.\n",
    "    \n",
    "    Args:\n",
    "        series: pandas Series with value counts\n",
    "        title: Chart title\n",
    "        figsize: Figure size tuple\n",
    "    \"\"\"\n",
    "    plt.figure(figsize=figsize)\n",
    "    series.plot(kind=\"bar\")\n",
    "    plt.title(title)\n",
    "    plt.xticks(rotation=45)\n",
    "    plt.tight_layout()\n",
    "    plt.show()\n",
    "\n",
    "def plot_crosstab(crosstab_data, title, figsize=(10, 6)):\n",
    "    \"\"\"\n",
    "    Create a heatmap of crosstab data.\n",
    "    \n",
    "    Args:\n",
    "        crosstab_data: pandas DataFrame from pd.crosstab()\n",
    "        title: Chart title\n",
    "        figsize: Figure size tuple\n",
    "    \"\"\"\n",
    "    plt.figure(figsize=figsize)\n",
    "    plt.imshow(crosstab_data.values, cmap=\"Blues\", aspect=\"auto\")\n",
    "    plt.colorbar()\n",
    "    plt.title(title)\n",
    "    plt.xticks(range(len(crosstab_data.columns)), crosstab_data.columns, rotation=45)\n",
    "    plt.yticks(range(len(crosstab_data.index)), crosstab_data.index)\n",
    "    plt.tight_layout()\n",
    "    plt.show()"
   ]
  },
  {
   "cell_type": "markdown",
   "metadata": {},
   "source": [
    "## Part 1: Basic Exploration (3 points)\n",
    "\n",
    "Display:\n",
    "1. Dataset shape\n",
    "2. Column names and types\n",
    "3. First 10 rows\n",
    "4. Summary statistics (.describe())"
   ]
  },
  {
   "cell_type": "code",
   "execution_count": 9,
   "metadata": {},
   "outputs": [
    {
     "name": "stdout",
     "output_type": "stream",
     "text": [
      "1. Dataset shape:\n",
      " Rows: 10000, Columns: 18\n",
      "\n",
      "2. Column names and types:\n",
      "patient_id             object\n",
      "age                     int64\n",
      "sex                    object\n",
      "bmi                   float64\n",
      "enrollment_date        object\n",
      "systolic_bp           float64\n",
      "diastolic_bp          float64\n",
      "cholesterol_total     float64\n",
      "cholesterol_hdl       float64\n",
      "cholesterol_ldl       float64\n",
      "glucose_fasting       float64\n",
      "site                   object\n",
      "intervention_group     object\n",
      "follow_up_months        int64\n",
      "adverse_events          int64\n",
      "outcome_cvd            object\n",
      "adherence_pct         float64\n",
      "dropout                object\n",
      "dtype: object\n",
      "\n",
      "3. First 10 rows:\n",
      "  patient_id  age         sex   bmi enrollment_date  systolic_bp  \\\n",
      "0     P00001   80           F  29.3      2022-05-01        123.0   \n",
      "1     P00002   80    Female     NaN      2022-01-06        139.0   \n",
      "2     P00003   82      Female  -1.0      2023-11-04        123.0   \n",
      "3     P00004   95      Female  25.4      2022-08-15        116.0   \n",
      "4     P00005   95           M   NaN      2023-04-17         97.0   \n",
      "5     P00006   78           F  26.8      2023-08-29        116.0   \n",
      "6     P00007   84           F  25.4      2022-05-12        133.0   \n",
      "7     P00008   70        Male  24.7      2022-06-04        111.0   \n",
      "8     P00009   92      Female  26.9      2022-04-06          NaN   \n",
      "9     P00010   75        Male  21.1      2023-12-14        128.0   \n",
      "\n",
      "   diastolic_bp  cholesterol_total  cholesterol_hdl  cholesterol_ldl  \\\n",
      "0          80.0              120.0             55.0             41.0   \n",
      "1          81.0              206.0             58.0            107.0   \n",
      "2          86.0              172.0             56.0             82.0   \n",
      "3          77.0              200.0             56.0            104.0   \n",
      "4          71.0              185.0             78.0             75.0   \n",
      "5          66.0              164.0             54.0             99.0   \n",
      "6         100.0              215.0             62.0            113.0   \n",
      "7          72.0              174.0             60.0             94.0   \n",
      "8           NaN              189.0             62.0             89.0   \n",
      "9          76.0              218.0             77.0             97.0   \n",
      "\n",
      "   glucose_fasting    site intervention_group  follow_up_months  \\\n",
      "0            118.0  site b            Control                20   \n",
      "1             79.0  Site A            CONTROL                24   \n",
      "2             77.0  SITE C      treatment b                   2   \n",
      "3            115.0  Site D        treatment b                17   \n",
      "4            113.0  site e         Treatmen A                 9   \n",
      "5             99.0  Site A         TreatmentA                 4   \n",
      "6             70.0  site a        treatment a                20   \n",
      "7            109.0  SITE B        TREATMENT A                19   \n",
      "8            103.0  site a            Control                21   \n",
      "9             96.0  SITE A        Treatment B                 1   \n",
      "\n",
      "   adverse_events outcome_cvd  adherence_pct dropout  \n",
      "0               0          No           24.0      No  \n",
      "1               0          No           77.0      No  \n",
      "2               0         Yes           70.0      No  \n",
      "3               0          No           62.0      No  \n",
      "4               0         yes            NaN     Yes  \n",
      "5               0         yes            NaN     Yes  \n",
      "6               1          No           76.0      No  \n",
      "7               0          No           53.0      No  \n",
      "8               0         yes           53.0      No  \n",
      "9               0          No           50.0      No  \n",
      "\n",
      "4. Summary statistics:\n",
      "                age          bmi  systolic_bp  diastolic_bp  \\\n",
      "count  10000.000000  9562.000000  9586.000000   9586.000000   \n",
      "mean      59.182700    25.730558   117.531087     73.550908   \n",
      "std      151.769963     5.339547    13.973973     10.167464   \n",
      "min     -999.000000    -1.000000    75.000000     60.000000   \n",
      "25%       70.000000    23.500000   108.000000     65.000000   \n",
      "50%       80.000000    26.000000   117.000000     73.000000   \n",
      "75%       92.000000    28.775000   127.000000     81.000000   \n",
      "max      100.000000    42.800000   173.000000    118.000000   \n",
      "\n",
      "       cholesterol_total  cholesterol_hdl  cholesterol_ldl  glucose_fasting  \\\n",
      "count        9446.000000      9446.000000      9446.000000      9631.000000   \n",
      "mean          178.039488        61.369786        85.698603        96.424255   \n",
      "std            33.129034        11.062101        28.686463        17.112961   \n",
      "min            91.000000        25.000000        40.000000        51.000000   \n",
      "25%           155.000000        54.000000        65.000000        84.000000   \n",
      "50%           177.000000        61.000000        84.000000        96.000000   \n",
      "75%           200.000000        69.000000       105.000000       108.000000   \n",
      "max           315.000000        98.000000       226.000000       163.000000   \n",
      "\n",
      "       follow_up_months  adverse_events  adherence_pct  \n",
      "count       10000.00000    10000.000000    8533.000000  \n",
      "mean           12.25460        0.145500      60.615610  \n",
      "std             7.07675        0.393631      18.974399  \n",
      "min             0.00000        0.000000      20.000000  \n",
      "25%             6.00000        0.000000      47.000000  \n",
      "50%            12.00000        0.000000      62.000000  \n",
      "75%            19.00000        0.000000      75.000000  \n",
      "max            24.00000        4.000000     100.000000  \n",
      "\n"
     ]
    }
   ],
   "source": [
    "# TODO: Display dataset info\n",
    "print(\"1. Dataset shape:\")\n",
    "print(f\" Rows: {df.shape[0]}, Columns: {df.shape[1]}\")\n",
    "print()\n",
    "\n",
    "print(\"2. Column names and types:\")\n",
    "print(df.dtypes)\n",
    "print()\n",
    "\n",
    "print(\"3. First 10 rows:\")\n",
    "print(df.head(10))\n",
    "print()\n",
    "\n",
    "print (\"4. Summary statistics:\")\n",
    "print(df.describe())\n",
    "print()"
   ]
  },
  {
   "cell_type": "markdown",
   "metadata": {},
   "source": [
    "## Part 2: Column Selection (3 points)\n",
    "\n",
    "Demonstrate different selection methods:\n",
    "\n",
    "1. Select only numeric columns using `.select_dtypes()`\n",
    "2. Select specific columns by name\n",
    "3. Select a subset of rows and columns using `.loc[]`"
   ]
  },
  {
   "cell_type": "code",
   "execution_count": 13,
   "metadata": {},
   "outputs": [
    {
     "name": "stdout",
     "output_type": "stream",
     "text": [
      "1. Numeric columns only:\n",
      "   age   bmi  systolic_bp  diastolic_bp  cholesterol_total  cholesterol_hdl  \\\n",
      "0   80  29.3        123.0          80.0              120.0             55.0   \n",
      "1   80   NaN        139.0          81.0              206.0             58.0   \n",
      "2   82  -1.0        123.0          86.0              172.0             56.0   \n",
      "3   95  25.4        116.0          77.0              200.0             56.0   \n",
      "4   95   NaN         97.0          71.0              185.0             78.0   \n",
      "\n",
      "   cholesterol_ldl  glucose_fasting  follow_up_months  adverse_events  \\\n",
      "0             41.0            118.0                20               0   \n",
      "1            107.0             79.0                24               0   \n",
      "2             82.0             77.0                 2               0   \n",
      "3            104.0            115.0                17               0   \n",
      "4             75.0            113.0                 9               0   \n",
      "\n",
      "   adherence_pct  \n",
      "0           24.0  \n",
      "1           77.0  \n",
      "2           70.0  \n",
      "3           62.0  \n",
      "4            NaN  \n",
      "Shape: (10000, 11)\n",
      "\n"
     ]
    }
   ],
   "source": [
    "# TODO: Select numeric columns\n",
    "print(\"1. Numeric columns only:\")\n",
    "numeric = df.select_dtypes(include=['number'])\n",
    "print(numeric.head())\n",
    "print(f\"Shape: {numeric.shape}\")\n",
    "print()\n"
   ]
  },
  {
   "cell_type": "code",
   "execution_count": null,
   "metadata": {},
   "outputs": [
    {
     "name": "stdout",
     "output_type": "stream",
     "text": [
      "2. Specific columns by name:\n",
      "  patient_id  age  glucose_fasting  cholesterol_total\n",
      "0     P00001   80            118.0              120.0\n",
      "1     P00002   80             79.0              206.0\n",
      "2     P00003   82             77.0              172.0\n",
      "3     P00004   95            115.0              200.0\n",
      "4     P00005   95            113.0              185.0\n",
      "Shape: (10000, 4)\n",
      "\n"
     ]
    }
   ],
   "source": [
    "# TODO: Select specific columns\n",
    "# example: select patient_id, age, glucose_fasting, cholesterol_total\n",
    "print(\"2. Specific columns by name:\")\n",
    "selected_columns = df[['patient_id', 'age', 'glucose_fasting', 'cholesterol_total']]\n",
    "print(selected_columns.head())\n",
    "print(f\"Shape: {selected_columns.shape}\")\n",
    "print()"
   ]
  },
  {
   "cell_type": "code",
   "execution_count": null,
   "metadata": {},
   "outputs": [
    {
     "name": "stdout",
     "output_type": "stream",
     "text": [
      "3. Subset of rows and columns:\n",
      "  patient_id  age  cholesterol_total\n",
      "0     P00001   80              120.0\n",
      "1     P00002   80              206.0\n",
      "2     P00003   82              172.0\n",
      "3     P00004   95              200.0\n",
      "4     P00005   95              185.0\n",
      "\n"
     ]
    }
   ],
   "source": [
    "# TODO: Use .loc[] to select subset\n",
    "# example: select for age >30, patient_id, age, cholesterol_total columns\n",
    "print(\"3. Subset of rows and columns:\")\n",
    "subset = df.loc[df['age']>30, ['patient_id', 'age', 'cholesterol_total']]\n",
    "print(subset.head())\n",
    "print()"
   ]
  },
  {
   "cell_type": "markdown",
   "metadata": {},
   "source": [
    "## Part 3: Filtering (4 points)\n",
    "\n",
    "Filter the data to answer these questions:\n",
    "\n",
    "1. How many patients are over 65 years old?\n",
    "2. How many patients have systolic BP > 140?\n",
    "3. Find patients who are both over 65 AND have systolic BP > 140\n",
    "4. Find patients from Site A or Site B using `.isin()`"
   ]
  },
  {
   "cell_type": "code",
   "execution_count": null,
   "metadata": {},
   "outputs": [],
   "source": [
    "# TODO: Filter and count patients over 65\n",
    "# 1. Use the filter_data utility from Q3\n",
    "# 2. Create a filter for age > 65\n",
    "# 3. Apply the filter and count the results\n",
    "# print(f\"Patients over 65: {len(patients_over_65)}\")\n"
   ]
  },
  {
   "cell_type": "code",
   "execution_count": null,
   "metadata": {},
   "outputs": [],
   "source": [
    "# TODO: Filter for high BP\n",
    "# 1. Use the filter_data utility from Q3\n",
    "# 2. Create a filter for systolic_bp > 140\n",
    "# 3. Apply the filter and count the results\n",
    "# print(f\"Patients with high BP: {len(high_bp)}\")\n"
   ]
  },
  {
   "cell_type": "code",
   "execution_count": null,
   "metadata": {},
   "outputs": [],
   "source": [
    "# TODO: Multiple conditions with &\n",
    "# 1. Use filter_data for multiple conditions:\n",
    "# 2. Create filters for both conditions:\n",
    "#     {'column': 'age', 'condition': 'greater_than', 'value': 65},\n",
    "#     {'column': 'systolic_bp', 'condition': 'greater_than', 'value': 140}\n",
    "# ]\n",
    "# 3. Apply the filter and count the results\n",
    "# print(f\"Patients over 65 AND high BP: {len(both_conditions)}\")\n",
    "#\n",
    "# 5. Alternative: Use in_range for age range:\n",
    "# 5. Create filter for age range 65-100\n",
    "# 6. Apply the filter and count the results\n"
   ]
  },
  {
   "cell_type": "code",
   "execution_count": null,
   "metadata": {},
   "outputs": [],
   "source": [
    "# TODO: Filter by site using .isin()\n",
    "# 1. Use the filter_data utility from Q3\n",
    "# 2. Create a filter for Site A or Site B\n",
    "# 3. Apply the filter and count the results\n",
    "# print(f\"Patients from Site A or B: {len(site_ab)}\")\n"
   ]
  },
  {
   "cell_type": "markdown",
   "metadata": {},
   "source": [
    "## Part 4: Value Counts and Grouping (5 points)\n",
    "\n",
    "1. Get value counts for the 'site' column\n",
    "2. Get value counts for the 'intervention_group' column  \n",
    "3. Create a crosstab of site vs intervention_group\n",
    "4. Calculate mean age by site\n",
    "5. Save the site value counts to `output/q4_site_counts.csv`"
   ]
  },
  {
   "cell_type": "code",
   "execution_count": null,
   "metadata": {},
   "outputs": [],
   "source": [
    "# TODO: Value counts and analysis\n"
   ]
  },
  {
   "cell_type": "code",
   "execution_count": null,
   "metadata": {},
   "outputs": [],
   "source": [
    "# TODO: Save output\n",
    "# site_counts.to_csv('output/q4_site_counts.csv')\n"
   ]
  },
  {
   "cell_type": "markdown",
   "metadata": {},
   "source": [
    "## Summary\n",
    "\n",
    "Write 2-3 sentences about what you learned from exploring this dataset."
   ]
  },
  {
   "cell_type": "markdown",
   "metadata": {},
   "source": [
    "**Your summary here:**\n",
    "\n",
    "TODO: Write your observations\n"
   ]
  }
 ],
 "metadata": {
  "kernelspec": {
   "display_name": ".venv",
   "language": "python",
   "name": "python3"
  },
  "language_info": {
   "codemirror_mode": {
    "name": "ipython",
    "version": 3
   },
   "file_extension": ".py",
   "mimetype": "text/x-python",
   "name": "python",
   "nbconvert_exporter": "python",
   "pygments_lexer": "ipython3",
   "version": "3.13.7"
  }
 },
 "nbformat": 4,
 "nbformat_minor": 2
}
